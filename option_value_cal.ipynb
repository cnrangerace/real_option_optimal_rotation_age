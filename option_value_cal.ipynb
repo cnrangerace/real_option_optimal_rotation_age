{
 "cells": [
  {
   "cell_type": "code",
   "execution_count": 1,
   "id": "279adfa4",
   "metadata": {},
   "outputs": [],
   "source": [
    "import pandas as pd\n",
    "\n",
    "import numpy as np\n",
    "\n",
    "import xlwings as xw"
   ]
  },
  {
   "cell_type": "code",
   "execution_count": 2,
   "id": "7fb62ce1",
   "metadata": {},
   "outputs": [],
   "source": [
    "def crr_put_option(S, K, T, r, sigma, q, n=1000):\n",
    "    dt = T / n\n",
    "    u = np.exp(sigma * np.sqrt(dt))\n",
    "    d = 1 / u\n",
    "    p = (np.exp((r - q) * dt) - d) / (u - d)\n",
    "    \n",
    "    # Initialize stock price tree\n",
    "\n",
    "    stock_tree = np.zeros((n + 1, n + 1))\n",
    "    stock_tree[0, 0] = S\n",
    "    for i in range(1, n + 1):\n",
    "        stock_tree[i, 0] = stock_tree[i - 1, 0] * u\n",
    "        for j in range(1, i + 1):\n",
    "            stock_tree[i, j] = stock_tree[i - 1, j - 1] * d\n",
    "            \n",
    "    # Initialize option value tree\n",
    "    option_tree = np.zeros((n + 1, n + 1))\n",
    "    for j in range(n + 1):\n",
    "        option_tree[n, j] = max(K - stock_tree[n, j], 0)\n",
    "        \n",
    "    # Backward induction to calculate option value\n",
    "    for i in range(n - 1, -1, -1):\n",
    "        for j in range(i + 1):\n",
    "            option_tree[i, j] = max(K - stock_tree[i, j], np.exp(-r * dt) * (p * option_tree[i + 1, j] + (1 - p) * option_tree[i + 1, j + 1]))\n",
    "\n",
    "    return option_tree[0, 0]\n",
    " "
   ]
  },
  {
   "cell_type": "code",
   "execution_count": 4,
   "id": "34c6cd91",
   "metadata": {},
   "outputs": [],
   "source": [
    "opt_value = crr_put_option(10, 10, 5, 4, 3, 1, n=100)"
   ]
  },
  {
   "cell_type": "code",
   "execution_count": 5,
   "id": "363f5cdb",
   "metadata": {},
   "outputs": [
    {
     "name": "stdout",
     "output_type": "stream",
     "text": [
      "2.9120315916375397\n"
     ]
    }
   ],
   "source": [
    "print(opt_value)"
   ]
  },
  {
   "cell_type": "code",
   "execution_count": 22,
   "id": "973478ce",
   "metadata": {},
   "outputs": [],
   "source": [
    "data = pd.read_excel(\"Desktop/opt_value_test_60_1.xlsx\")"
   ]
  },
  {
   "cell_type": "code",
   "execution_count": 28,
   "id": "502e2484",
   "metadata": {},
   "outputs": [
    {
     "name": "stdout",
     "output_type": "stream",
     "text": [
      "   Harvest Age            QT  pm_60_percent_put          Pr  Decision   T  \\\n",
      "0           40  47453.236009         232.491146  236.045987         1  30   \n",
      "1           33  35845.370305         253.633933  268.698706         1  37   \n",
      "2           49  60500.575917         217.607145  219.550813         1  21   \n",
      "3           30  30536.154886         269.070905  297.237228         1  40   \n",
      "4           25  21461.158524         312.505580  359.307213         1  45   \n",
      "\n",
      "      r  volatility  div_rate       S  Option Value  \n",
      "0  0.04      0.3885         0  169.19     50.028807  \n",
      "1  0.04      0.3885         0  169.19     47.442847  \n",
      "2  0.04      0.3885         0  169.19     49.608639  \n",
      "3  0.04      0.3885         0  169.19     45.102359  \n",
      "4  0.04      0.3885         0  169.19     40.944255  \n"
     ]
    }
   ],
   "source": [
    "print(data.head())"
   ]
  },
  {
   "cell_type": "code",
   "execution_count": 29,
   "id": "2ef5c4e7",
   "metadata": {},
   "outputs": [],
   "source": [
    "# Calculate the American put option value with the CRR method and store it in the 'Option Value' column\n",
    "\n",
    "data[\"Option Value\"] = data.apply(lambda row: crr_put_option(row[\"Pr\"],\n",
    "                                                            row[\"S\"],\n",
    "                                                            row[\"T\"],\n",
    "                                                            row[\"r\"],\n",
    "                                                            row[\"volatility\"],\n",
    "                                                            row[\"div_rate\"]), axis=1)"
   ]
  },
  {
   "cell_type": "code",
   "execution_count": 30,
   "id": "506dc88a",
   "metadata": {},
   "outputs": [
    {
     "name": "stdout",
     "output_type": "stream",
     "text": [
      "   Harvest Age            QT  pm_60_percent_put          Pr  Decision   T  \\\n",
      "0           40  47453.236009         232.491146  236.045987         1  30   \n",
      "1           33  35845.370305         253.633933  268.698706         1  37   \n",
      "2           49  60500.575917         217.607145  219.550813         1  21   \n",
      "3           30  30536.154886         269.070905  297.237228         1  40   \n",
      "4           25  21461.158524         312.505580  359.307213         1  45   \n",
      "\n",
      "      r  volatility  div_rate       S  Option Value  \n",
      "0  0.04      0.3885         0  169.19     50.028807  \n",
      "1  0.04      0.3885         0  169.19     47.442847  \n",
      "2  0.04      0.3885         0  169.19     49.608639  \n",
      "3  0.04      0.3885         0  169.19     45.102359  \n",
      "4  0.04      0.3885         0  169.19     40.944255  \n"
     ]
    }
   ],
   "source": [
    "print(data.head())"
   ]
  },
  {
   "cell_type": "code",
   "execution_count": null,
   "id": "38e1b3b0",
   "metadata": {},
   "outputs": [],
   "source": []
  }
 ],
 "metadata": {
  "kernelspec": {
   "display_name": "Python 3 (ipykernel)",
   "language": "python",
   "name": "python3"
  },
  "language_info": {
   "codemirror_mode": {
    "name": "ipython",
    "version": 3
   },
   "file_extension": ".py",
   "mimetype": "text/x-python",
   "name": "python",
   "nbconvert_exporter": "python",
   "pygments_lexer": "ipython3",
   "version": "3.9.16"
  }
 },
 "nbformat": 4,
 "nbformat_minor": 5
}
